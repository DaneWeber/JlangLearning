{
 "cells": [
  {
   "cell_type": "markdown",
   "metadata": {},
   "source": [
    "Unary, with separators. Each quantity is raised to a power equal to the separators to the right plus one."
   ]
  },
  {
   "cell_type": "code",
   "execution_count": 1,
   "metadata": {
    "collapsed": true
   },
   "outputs": [],
   "source": [
    "NB. 1 = usp 1\n",
    "NB. 2 = usp 1 1\n",
    "NB. 3 = usp 1 1 1\n",
    "NB. 4 = usp 1 1 0\n",
    "NB. 5 = usp 1 1 0 1\n",
    "NB. 6 = usp 1 1 0 1 1\n",
    "NB. 7 = usp 1 1 0 1 1 1\n",
    "NB. 8 = usp 1 1 0 0\n",
    "NB. 9 = usp 1 1 1 0\n",
    "NB. 10 = usp 1 1 1 0 1\n",
    "NB. 11 = usp 1 1 1 0 1 1\n",
    "NB. 12 = usp 1 1 0 1 1 0 \n",
    "NB. 13 = usp 1 1 0 1 1 0 1\n",
    "NB. 14 = usp 1 1 0 1 1 0 1 1\n",
    "NB. 15 = usp 1 1 0 1 1 0 1 1 1\n",
    "NB. 16 = usp 1 1 0 0 0\n",
    "NB. 17 = usp 1 1 0 0 0 1\n"
   ]
  },
  {
   "cell_type": "code",
   "execution_count": 2,
   "metadata": {
    "collapsed": true
   },
   "outputs": [],
   "source": [
    "NB. 15 = pp 2 2 3"
   ]
  },
  {
   "cell_type": "code",
   "execution_count": 3,
   "metadata": {
    "collapsed": false
   },
   "outputs": [
    {
     "name": "stdout",
     "output_type": "stream",
     "text": [
      "[ ([: +/ ] ^ [: |. 1 + [: i. #)\n"
     ]
    }
   ],
   "source": [
    "[ pp =: 13 : '+/ y ^ |. 1 + i. # y'"
   ]
  },
  {
   "cell_type": "code",
   "execution_count": 4,
   "metadata": {
    "collapsed": false
   },
   "outputs": [
    {
     "name": "stdout",
     "output_type": "stream",
     "text": [
      "15\n"
     ]
    }
   ],
   "source": [
    "pp 2 2 3"
   ]
  },
  {
   "cell_type": "code",
   "execution_count": 5,
   "metadata": {
    "collapsed": false
   },
   "outputs": [
    {
     "name": "stdout",
     "output_type": "stream",
     "text": [
      "17\n"
     ]
    }
   ],
   "source": [
    "pp 2 0 0 1"
   ]
  },
  {
   "cell_type": "code",
   "execution_count": 6,
   "metadata": {
    "collapsed": false
   },
   "outputs": [
    {
     "name": "stdout",
     "output_type": "stream",
     "text": [
      "616226\n"
     ]
    }
   ],
   "source": [
    "pp 785 1"
   ]
  },
  {
   "cell_type": "code",
   "execution_count": 7,
   "metadata": {
    "collapsed": false
   },
   "outputs": [
    {
     "name": "stdout",
     "output_type": "stream",
     "text": [
      "(2<F\n"
     ]
    }
   ],
   "source": [
    "40 50 60 70 { a."
   ]
  },
  {
   "cell_type": "code",
   "execution_count": 8,
   "metadata": {
    "collapsed": false
   },
   "outputs": [
    {
     "name": "stdout",
     "output_type": "stream",
     "text": [
      "70 108 117 102 102 117 109 115\n"
     ]
    }
   ],
   "source": [
    "'Fluffums' I.~ a."
   ]
  },
  {
   "cell_type": "code",
   "execution_count": 9,
   "metadata": {
    "collapsed": false
   },
   "outputs": [
    {
     "name": "stdout",
     "output_type": "stream",
     "text": [
      "Fluffums\n"
     ]
    }
   ],
   "source": [
    "70 108 117 102 102 117 109 115 { a."
   ]
  },
  {
   "cell_type": "code",
   "execution_count": 10,
   "metadata": {
    "collapsed": false
   },
   "outputs": [
    {
     "name": "stdout",
     "output_type": "stream",
     "text": [
      "22592565773844789\n"
     ]
    }
   ],
   "source": [
    "118 #. 70 108 117 102 102 117 109 115"
   ]
  },
  {
   "cell_type": "code",
   "execution_count": 11,
   "metadata": {
    "collapsed": false
   },
   "outputs": [
    {
     "name": "stdout",
     "output_type": "stream",
     "text": [
      "70 108 117 102 102 117 109 115\n"
     ]
    }
   ],
   "source": [
    "118 #.^:_1 [ 22592565773844789"
   ]
  },
  {
   "cell_type": "code",
   "execution_count": 12,
   "metadata": {
    "collapsed": false
   },
   "outputs": [
    {
     "name": "stdout",
     "output_type": "stream",
     "text": [
      "1.50308e8\n"
     ]
    }
   ],
   "source": [
    "%: 22592565773844789"
   ]
  },
  {
   "cell_type": "code",
   "execution_count": 13,
   "metadata": {
    "collapsed": false
   },
   "outputs": [
    {
     "name": "stdout",
     "output_type": "stream",
     "text": [
      "265029564\n"
     ]
    }
   ],
   "source": [
    "22592565773844789 - *: 150308235x"
   ]
  },
  {
   "cell_type": "code",
   "execution_count": 14,
   "metadata": {
    "collapsed": false
   },
   "outputs": [
    {
     "name": "stdout",
     "output_type": "stream",
     "text": [
      "22592565773844789\n"
     ]
    }
   ],
   "source": [
    "pp 150308235x 265029564x"
   ]
  },
  {
   "cell_type": "code",
   "execution_count": 15,
   "metadata": {
    "collapsed": false
   },
   "outputs": [
    {
     "name": "stdout",
     "output_type": "stream",
     "text": [
      "Fluffums\n"
     ]
    }
   ],
   "source": [
    "a. {~ 118 #.^:_1 pp 150308235x 265029564x"
   ]
  },
  {
   "cell_type": "code",
   "execution_count": 17,
   "metadata": {
    "collapsed": false
   },
   "outputs": [
    {
     "name": "stdout",
     "output_type": "stream",
     "text": [
      "Fluffums\n"
     ]
    }
   ],
   "source": [
    "a. {~ 118 #.^:_1 [ 265029564x + *: 150308235x"
   ]
  },
  {
   "cell_type": "code",
   "execution_count": null,
   "metadata": {
    "collapsed": true
   },
   "outputs": [],
   "source": []
  }
 ],
 "metadata": {
  "kernelspec": {
   "display_name": "J",
   "language": "J",
   "name": "jkernel"
  },
  "language_info": {
   "file_extension": "ijs",
   "mimetype": "text/x-J",
   "name": "J"
  }
 },
 "nbformat": 4,
 "nbformat_minor": 0
}
