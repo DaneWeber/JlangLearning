{
 "cells": [
  {
   "cell_type": "markdown",
   "metadata": {},
   "source": [
    "# String division\n",
    "\n",
    "https://codegolf.stackexchange.com/questions/129259/divide-a-string\n",
    "\n",
    "## Test cases\n",
    "\n",
    "    \"Hello, world!\", 4 -> ([\"Hel\", \"lo,\", \" wo\", \"rld\"], \"!\") (\"!\" is the remainder)\n",
    "    \"Hello, world!\", 5 -> ([\"He\", \"ll\", \"o,\", \" w\", \"or\"], \"ld!\")\n",
    "    \"ABCDEFGH\", 2 -> ([\"ABCD\", \"EFGH\"], \"\") (no remainder; optional \"\")\n",
    "    \"123456789\", 5 -> ([\"1\", \"2\", \"3\", \"4\", \"5\"], \"6789\")\n",
    "    \"ALABAMA\", 3 -> ([\"AL\", \"AB\", \"AM\"], \"A\")\n",
    "    \"1234567\", 4 -> ([\"1\", \"2\", \"3\", \"4\"], \"567\")\n",
    "\n",
    "## Solution - 26 bytes\n",
    "\n",
    "    (]$~[,(<.@%~#));]{.~0-(|#)\n",
    "\n",
    "### Notes\n",
    "\n",
    "The results of this function are a string array with x strings of equal length in the first box and a string of the remaining characters in the second box."
   ]
  },
  {
   "cell_type": "code",
   "execution_count": 1,
   "metadata": {
    "collapsed": true
   },
   "outputs": [],
   "source": [
    "chunk =. (]$~[,(<.@%~#));]{.~0-(|#) NB. Assign solution to a function name."
   ]
  },
  {
   "cell_type": "code",
   "execution_count": 2,
   "metadata": {
    "collapsed": true
   },
   "outputs": [],
   "source": [
    "NB. Test strings\n",
    "test1 =. test2 =. 'Hello, world!'\n",
    "test3 =. 'ABCDEFGH'\n",
    "test4 =. '123456789'\n",
    "test5 =. 'ALABAMA'\n",
    "test6 =. '1234567'"
   ]
  },
  {
   "cell_type": "code",
   "execution_count": 3,
   "metadata": {
    "collapsed": false
   },
   "outputs": [
    {
     "name": "stdout",
     "output_type": "stream",
     "text": [
      "+---+-+\n",
      "|Hel|!|\n",
      "|lo,| |\n",
      "| wo| |\n",
      "|rld| |\n",
      "+---+-+\n"
     ]
    }
   ],
   "source": [
    "4 chunk test1 "
   ]
  },
  {
   "cell_type": "code",
   "execution_count": 4,
   "metadata": {
    "collapsed": false
   },
   "outputs": [
    {
     "name": "stdout",
     "output_type": "stream",
     "text": [
      "+--+---+\n",
      "|He|ld!|\n",
      "|ll|   |\n",
      "|o,|   |\n",
      "| w|   |\n",
      "|or|   |\n",
      "+--+---+\n"
     ]
    }
   ],
   "source": [
    "5 chunk test2"
   ]
  },
  {
   "cell_type": "code",
   "execution_count": 5,
   "metadata": {
    "collapsed": false
   },
   "outputs": [
    {
     "name": "stdout",
     "output_type": "stream",
     "text": [
      "+----++\n",
      "|ABCD||\n",
      "|EFGH||\n",
      "+----++\n"
     ]
    }
   ],
   "source": [
    "2 chunk test3"
   ]
  },
  {
   "cell_type": "code",
   "execution_count": 6,
   "metadata": {
    "collapsed": false
   },
   "outputs": [
    {
     "name": "stdout",
     "output_type": "stream",
     "text": [
      "+-+----+\n",
      "|1|6789|\n",
      "|2|    |\n",
      "|3|    |\n",
      "|4|    |\n",
      "|5|    |\n",
      "+-+----+\n"
     ]
    }
   ],
   "source": [
    "5 chunk test4"
   ]
  },
  {
   "cell_type": "code",
   "execution_count": 7,
   "metadata": {
    "collapsed": false
   },
   "outputs": [
    {
     "name": "stdout",
     "output_type": "stream",
     "text": [
      "+--+-+\n",
      "|AL|A|\n",
      "|AB| |\n",
      "|AM| |\n",
      "+--+-+\n"
     ]
    }
   ],
   "source": [
    "3 chunk test5"
   ]
  },
  {
   "cell_type": "code",
   "execution_count": 8,
   "metadata": {
    "collapsed": false
   },
   "outputs": [
    {
     "name": "stdout",
     "output_type": "stream",
     "text": [
      "+-+---+\n",
      "|1|567|\n",
      "|2|   |\n",
      "|3|   |\n",
      "|4|   |\n",
      "+-+---+\n"
     ]
    }
   ],
   "source": [
    "4 chunk test6"
   ]
  },
  {
   "cell_type": "code",
   "execution_count": null,
   "metadata": {
    "collapsed": true
   },
   "outputs": [],
   "source": []
  }
 ],
 "metadata": {
  "kernelspec": {
   "display_name": "J",
   "language": "J",
   "name": "jkernel"
  },
  "language_info": {
   "file_extension": "ijs",
   "mimetype": "text/x-J",
   "name": "J"
  }
 },
 "nbformat": 4,
 "nbformat_minor": 2
}
