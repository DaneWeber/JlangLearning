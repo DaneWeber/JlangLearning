{
 "cells": [
  {
   "cell_type": "markdown",
   "metadata": {
    "deletable": true,
    "editable": true
   },
   "source": [
    "# Ensure that every box contains a one-dimensional string."
   ]
  },
  {
   "cell_type": "code",
   "execution_count": 1,
   "metadata": {
    "collapsed": false,
    "deletable": true,
    "editable": true
   },
   "outputs": [
    {
     "name": "stdout",
     "output_type": "stream",
     "text": [
      "1 1\n"
     ]
    }
   ],
   "source": [
    "(([:1:' '&,) ::0: * (1=#@$))@> 'aaa' ; 'bb'"
   ]
  },
  {
   "cell_type": "code",
   "execution_count": 2,
   "metadata": {
    "collapsed": false,
    "deletable": true,
    "editable": true,
    "scrolled": true
   },
   "outputs": [
    {
     "name": "stdout",
     "output_type": "stream",
     "text": [
      "1 1 0 0\n"
     ]
    }
   ],
   "source": [
    "(([:1:' '&,) ::0: * (1=#@$))@> 'aaa' ; 'bb' ; (2 2 $ 'cccc') ; i. 4"
   ]
  },
  {
   "cell_type": "code",
   "execution_count": 3,
   "metadata": {
    "collapsed": false,
    "deletable": true,
    "editable": true,
    "scrolled": true
   },
   "outputs": [
    {
     "name": "stdout",
     "output_type": "stream",
     "text": [
      "0\n"
     ]
    }
   ],
   "source": [
    "*./ (([:1:' '&,) ::0: * (1=#@$))@> 'aaa' ; 'bb' ; (2 2 $ 'cccc') ; i. 4"
   ]
  },
  {
   "cell_type": "code",
   "execution_count": 4,
   "metadata": {
    "collapsed": false,
    "deletable": true,
    "editable": true,
    "scrolled": true
   },
   "outputs": [
    {
     "name": "stdout",
     "output_type": "stream",
     "text": [
      "1\n"
     ]
    }
   ],
   "source": [
    "*./ (([:1:' '&,) ::0: * (1=#@$))@> 'aaa' ; 'bb'"
   ]
  },
  {
   "cell_type": "code",
   "execution_count": 5,
   "metadata": {
    "collapsed": false,
    "deletable": true,
    "editable": true
   },
   "outputs": [
    {
     "name": "stdout",
     "output_type": "stream",
     "text": [
      "1 1 1 0\n"
     ]
    }
   ],
   "source": [
    "(([:1:' '&,) ::0:)@> 'aaa' ; 'bb' ; (2 2 $ 'cccc') ; i. 4"
   ]
  },
  {
   "cell_type": "markdown",
   "metadata": {
    "deletable": true,
    "editable": true
   },
   "source": [
    "' '&, will fail on non-strings, and thus 1: ' '&, will also fail. :: 0: returns a 0 if the other verbs fails."
   ]
  },
  {
   "cell_type": "code",
   "execution_count": 7,
   "metadata": {
    "collapsed": false,
    "deletable": true,
    "editable": true
   },
   "outputs": [
    {
     "name": "stdout",
     "output_type": "stream",
     "text": [
      "1 1 1 0\n"
     ]
    }
   ],
   "source": [
    "((1:' '&,) ::0:)@> 'aaa' ; 'bb' ; (2 2 $ 'cccc') ; i. 4"
   ]
  },
  {
   "cell_type": "markdown",
   "metadata": {
    "deletable": true,
    "editable": true
   },
   "source": [
    "# Sort a text file by line length\n",
    "Probably way easier than using Notepad++\n",
    "http://superuser.com/questions/609028/how-can-i-sort-the-lines-in-a-text-file-by-the-length-of-each-line-in-notepad/646084#646084"
   ]
  },
  {
   "cell_type": "code",
   "execution_count": 78,
   "metadata": {
    "collapsed": false,
    "deletable": true,
    "editable": true
   },
   "outputs": [
    {
     "name": "stdout",
     "output_type": "stream",
     "text": [
      "Lorem\n",
      "ipsum\n",
      "dolor\n",
      "sit\n",
      "amet\n",
      "consectetur\n",
      "adipisicing\n",
      "\n"
     ]
    }
   ],
   "source": [
    "textfile =: 0 : 0\n",
    "Lorem\n",
    "ipsum\n",
    "dolor\n",
    "sit\n",
    "amet\n",
    "consectetur\n",
    "adipisicing\n",
    ")\n",
    "textfile"
   ]
  },
  {
   "cell_type": "code",
   "execution_count": 79,
   "metadata": {
    "collapsed": false,
    "deletable": true,
    "editable": true
   },
   "outputs": [
    {
     "name": "stdout",
     "output_type": "stream",
     "text": [
      "sit\n",
      "amet\n",
      "Lorem\n",
      "ipsum\n",
      "dolor\n",
      "consectetur\n",
      "adipisicing\n",
      "\n"
     ]
    }
   ],
   "source": [
    "(lengthsort =: ] /: i.&# + # * #@>) (under =: &.) (textbox =: cutopen :. ([: ; [: <S:0 (< LF) ,.~ ])) textfile"
   ]
  },
  {
   "cell_type": "code",
   "execution_count": 19,
   "metadata": {
    "collapsed": false,
    "deletable": true,
    "editable": true
   },
   "outputs": [
    {
     "name": "stdout",
     "output_type": "stream",
     "text": [
      "35 36 37 24 32 82 83\n"
     ]
    }
   ],
   "source": [
    "(i.&# + (# * (# @ >))) textfile"
   ]
  },
  {
   "cell_type": "code",
   "execution_count": 15,
   "metadata": {
    "collapsed": false,
    "deletable": true,
    "editable": true
   },
   "outputs": [
    {
     "name": "stdout",
     "output_type": "stream",
     "text": [
      "0 1 2 3 4 5 6\n"
     ]
    }
   ],
   "source": [
    "i. # textfile"
   ]
  },
  {
   "cell_type": "code",
   "execution_count": 16,
   "metadata": {
    "collapsed": false,
    "deletable": true,
    "editable": true
   },
   "outputs": [
    {
     "name": "stdout",
     "output_type": "stream",
     "text": [
      "1\n"
     ]
    }
   ],
   "source": [
    "*./ (([:1:' '&,) ::0: * (1=#@$))@> textfile"
   ]
  },
  {
   "cell_type": "code",
   "execution_count": 21,
   "metadata": {
    "collapsed": false,
    "deletable": true,
    "editable": true
   },
   "outputs": [
    {
     "name": "stdout",
     "output_type": "stream",
     "text": [
      "5 5 5 3 4 11 11\n"
     ]
    }
   ],
   "source": [
    "(# @ >) textfile"
   ]
  },
  {
   "cell_type": "code",
   "execution_count": 28,
   "metadata": {
    "collapsed": false,
    "deletable": true,
    "editable": true
   },
   "outputs": [
    {
     "name": "stdout",
     "output_type": "stream",
     "text": [
      "+---+----+-----+-----+-----+-----------+-----------+\n",
      "|sit|amet|Lorem|ipsum|dolor|consectetur|adipisicing|\n",
      "+---+----+-----+-----+-----+-----------+-----------+\n"
     ]
    }
   ],
   "source": [
    "[ shortestFirst =: (] /: (i.&# + (# * (# @ >)))) textfile"
   ]
  },
  {
   "cell_type": "code",
   "execution_count": 29,
   "metadata": {
    "collapsed": false,
    "deletable": true,
    "editable": true
   },
   "outputs": [
    {
     "name": "stdout",
     "output_type": "stream",
     "text": [
      "] /: i.&# + # * #@>\n"
     ]
    }
   ],
   "source": [
    "13 : '(] /: (i.&# + (# * (# @ >)))) y'"
   ]
  },
  {
   "cell_type": "code",
   "execution_count": 30,
   "metadata": {
    "collapsed": false,
    "deletable": true,
    "editable": true
   },
   "outputs": [
    {
     "name": "stdout",
     "output_type": "stream",
     "text": [
      "+---+----+-----+-----+-----+-----------+-----------+\n",
      "|sit|amet|Lorem|ipsum|dolor|consectetur|adipisicing|\n",
      "+---+----+-----+-----+-----+-----------+-----------+\n"
     ]
    }
   ],
   "source": [
    "[ shortestFirst =: (] /: i.&# + # * #@>) textfile"
   ]
  },
  {
   "cell_type": "code",
   "execution_count": 32,
   "metadata": {
    "collapsed": false,
    "deletable": true,
    "editable": true
   },
   "outputs": [
    {
     "name": "stdout",
     "output_type": "stream",
     "text": [
      "3 : 0\n",
      "y cutopen~ (' ',LF) {~ LF e. ,y\n",
      ":\n",
      "if. L. y do. y return. end.\n",
      "if. 1 < #$y do. <\"_1 y return. end.\n",
      "(<'') -.~ (y e.x) <;._2 y=. y,1{.x\n",
      ")\n"
     ]
    }
   ],
   "source": [
    "cutopen"
   ]
  },
  {
   "cell_type": "code",
   "execution_count": 47,
   "metadata": {
    "collapsed": false,
    "deletable": true,
    "editable": true
   },
   "outputs": [
    {
     "name": "stdout",
     "output_type": "stream",
     "text": [
      "sit\n",
      "amet\n",
      "Lorem\n",
      "ipsum\n",
      "dolor\n",
      "consectetur\n",
      "adipisicing\n",
      "\n"
     ]
    }
   ],
   "source": [
    "; < S:0 (< LF) ,.~ shortestFirst"
   ]
  },
  {
   "cell_type": "code",
   "execution_count": 48,
   "metadata": {
    "collapsed": false,
    "deletable": true,
    "editable": true
   },
   "outputs": [
    {
     "name": "stdout",
     "output_type": "stream",
     "text": [
      "[: ; [: <S:0 (<10{a.) ,.~ ]\n"
     ]
    }
   ],
   "source": [
    "13 : '; < S:0 (< LF) ,.~ y'"
   ]
  },
  {
   "cell_type": "code",
   "execution_count": 54,
   "metadata": {
    "collapsed": false,
    "deletable": true,
    "editable": true
   },
   "outputs": [
    {
     "name": "stdout",
     "output_type": "stream",
     "text": [
      "sit\n",
      "amet\n",
      "Lorem\n",
      "ipsum\n",
      "dolor\n",
      "consectetur\n",
      "adipisicing\n",
      "\n"
     ]
    }
   ],
   "source": [
    "([: ; [: <S:0 (< LF) ,.~ ]) shortestFirst"
   ]
  },
  {
   "cell_type": "code",
   "execution_count": 56,
   "metadata": {
    "collapsed": false,
    "deletable": true,
    "editable": true
   },
   "outputs": [
    {
     "name": "stdout",
     "output_type": "stream",
     "text": [
      "1 1 1 1 1 1 1\n"
     ]
    }
   ],
   "source": [
    "shortestFirst = cutopen ([: ; [: <S:0 (< LF) ,.~ ]) shortestFirst"
   ]
  },
  {
   "cell_type": "code",
   "execution_count": 60,
   "metadata": {
    "collapsed": false,
    "deletable": true,
    "editable": true
   },
   "outputs": [
    {
     "name": "stdout",
     "output_type": "stream",
     "text": [
      "sit\n",
      "amet\n",
      "Lorem\n",
      "ipsum\n",
      "dolor\n",
      "consectetur\n",
      "adipisicing\n",
      "\n"
     ]
    }
   ],
   "source": [
    "(tapeshut =: [: ; [: <S:0 (< LF) ,.~ ]) (lengthsort =: ] /: i.&# + # * #@>) cutopen textfile"
   ]
  },
  {
   "cell_type": "code",
   "execution_count": 61,
   "metadata": {
    "collapsed": false,
    "deletable": true,
    "editable": true
   },
   "outputs": [
    {
     "name": "stdout",
     "output_type": "stream",
     "text": [
      "sit\n",
      "amet\n",
      "Lorem\n",
      "ipsum\n",
      "dolor\n",
      "consectetur\n",
      "adipisicing\n",
      "\n"
     ]
    }
   ],
   "source": [
    "tapeshut lengthsort cutopen textfile"
   ]
  },
  {
   "cell_type": "code",
   "execution_count": 70,
   "metadata": {
    "collapsed": false,
    "deletable": true,
    "editable": true
   },
   "outputs": [],
   "source": [
    "textbox =: cutopen :. ([: ; [: <S:0 (< LF) ,.~ ])"
   ]
  },
  {
   "cell_type": "code",
   "execution_count": 77,
   "metadata": {
    "collapsed": false,
    "deletable": true,
    "editable": true
   },
   "outputs": [
    {
     "name": "stdout",
     "output_type": "stream",
     "text": [
      "sit\n",
      "amet\n",
      "Lorem\n",
      "ipsum\n",
      "dolor\n",
      "consectetur\n",
      "adipisicing\n",
      "\n"
     ]
    }
   ],
   "source": [
    "(lengthsort =: ] /: i.&# + # * #@>) (under =: &.) (textbox =: cutopen :. ([: ; [: <S:0 (< LF) ,.~ ])) textfile"
   ]
  },
  {
   "cell_type": "code",
   "execution_count": 76,
   "metadata": {
    "collapsed": false,
    "deletable": true,
    "editable": true
   },
   "outputs": [
    {
     "name": "stdout",
     "output_type": "stream",
     "text": [
      "Lorem\n",
      "ipsum\n",
      "dolor\n",
      "sit\n",
      "amet\n",
      "consectetur\n",
      "adipisicing\n",
      "\n"
     ]
    }
   ],
   "source": [
    "textfile"
   ]
  },
  {
   "cell_type": "markdown",
   "metadata": {
    "collapsed": true,
    "deletable": true,
    "editable": true
   },
   "source": [
    "# Log Scale"
   ]
  },
  {
   "cell_type": "code",
   "execution_count": 2,
   "metadata": {
    "collapsed": false,
    "deletable": true,
    "editable": true
   },
   "outputs": [
    {
     "name": "stdout",
     "output_type": "stream",
     "text": [
      "100 125 158 199 251 316 398 501 630 794 1000\n"
     ]
    }
   ],
   "source": [
    "<. 100 * 10 ^ 10 %~ i. 11"
   ]
  },
  {
   "cell_type": "code",
   "execution_count": 40,
   "metadata": {
    "collapsed": false,
    "deletable": true,
    "editable": true
   },
   "outputs": [
    {
     "name": "stdout",
     "output_type": "stream",
     "text": [
      "    1  0.25\n",
      " 1.25  0.33\n",
      " 1.58  0.41\n",
      " 1.99  0.52\n",
      " 2.51  0.65\n",
      " 3.16  0.82\n",
      " 3.98  1.03\n",
      " 5.01  1.29\n",
      "  6.3  1.64\n",
      " 7.94  2.06\n",
      "   10  2.58\n",
      "12.58  3.26\n",
      "15.84  4.11\n",
      "19.95  5.16\n",
      "25.11  6.51\n",
      "31.62  8.19\n",
      "39.81  10.3\n",
      "50.11 12.98\n",
      "63.09 16.34\n",
      "79.43 20.57\n",
      "  100 25.89\n"
     ]
    }
   ],
   "source": [
    "2 -~/\\ 100 %~ <. 100 * 10 ^ 10 %~ i. 4\n",
    "((2 -~/\\ ]) ,.~ }:) 100 %~ <. 100 * 10 ^ 10 %~ i. 22"
   ]
  },
  {
   "cell_type": "code",
   "execution_count": 13,
   "metadata": {
    "collapsed": false,
    "deletable": true,
    "editable": true
   },
   "outputs": [
    {
     "name": "stdout",
     "output_type": "stream",
     "text": [
      "i. ,.~ 100 %~ [: <. 100 * 10 ^ 10 %~ i.\n"
     ]
    }
   ],
   "source": [
    "13 : '(i. y) ,.~ 100 %~ <. 100 * 10 ^ 10 %~ i. y'"
   ]
  },
  {
   "cell_type": "code",
   "execution_count": 14,
   "metadata": {
    "collapsed": false,
    "deletable": true,
    "editable": true
   },
   "outputs": [
    {
     "name": "stdout",
     "output_type": "stream",
     "text": [
      "    1  0\n",
      " 1.25  1\n",
      " 1.58  2\n",
      " 1.99  3\n",
      " 2.51  4\n",
      " 3.16  5\n",
      " 3.98  6\n",
      " 5.01  7\n",
      "  6.3  8\n",
      " 7.94  9\n",
      "   10 10\n",
      "12.58 11\n",
      "15.84 12\n",
      "19.95 13\n",
      "25.11 14\n",
      "31.62 15\n",
      "39.81 16\n",
      "50.11 17\n",
      "63.09 18\n",
      "79.43 19\n",
      "  100 20\n"
     ]
    }
   ],
   "source": [
    "(i. ,.~ 100 %~ [: <. 100 * 10 ^ 10 %~ i.) 21"
   ]
  },
  {
   "cell_type": "code",
   "execution_count": 20,
   "metadata": {
    "collapsed": false,
    "deletable": true,
    "editable": true
   },
   "outputs": [
    {
     "name": "stdout",
     "output_type": "stream",
     "text": [
      "_2 _3\n"
     ]
    }
   ],
   "source": [
    "2 -/\\ 2 4 7"
   ]
  },
  {
   "cell_type": "markdown",
   "metadata": {
    "collapsed": true,
    "deletable": true,
    "editable": true
   },
   "source": [
    "# Conway challenge"
   ]
  },
  {
   "cell_type": "code",
   "execution_count": null,
   "metadata": {
    "collapsed": true
   },
   "outputs": [],
   "source": [
    "13532385396179"
   ]
  }
 ],
 "metadata": {
  "kernelspec": {
   "display_name": "J",
   "language": "J",
   "name": "jkernel"
  },
  "language_info": {
   "file_extension": "ijs",
   "mimetype": "text/x-J",
   "name": "J"
  }
 },
 "nbformat": 4,
 "nbformat_minor": 0
}
