{
 "cells": [
  {
   "cell_type": "markdown",
   "metadata": {},
   "source": [
    "Especially dealing with hierarchical boxes."
   ]
  },
  {
   "cell_type": "code",
   "execution_count": 39,
   "metadata": {
    "collapsed": false
   },
   "outputs": [
    {
     "name": "stdout",
     "output_type": "stream",
     "text": [
      "+----+-----+\n",
      "|a   |+-+  |\n",
      "|    ||0|  |\n",
      "|    |+-+  |\n",
      "+----+-----+\n",
      "|b   |+-+  |\n",
      "|    ||1|  |\n",
      "|    |+-+  |\n",
      "+----+-----+\n",
      "|c   |+-+-+|\n",
      "|    ||2|0||\n",
      "|    |+-+-+|\n",
      "+----+-----+\n",
      "|dddd|+-+-+|\n",
      "|    ||2|1||\n",
      "|    |+-+-+|\n",
      "+----+-----+\n"
     ]
    }
   ],
   "source": [
    "(repbox =: <S:0 ,. [: <S:1 {::) 'a';'b';<('c';'dddd')"
   ]
  },
  {
   "cell_type": "code",
   "execution_count": 2,
   "metadata": {
    "collapsed": false
   },
   "outputs": [
    {
     "name": "stdout",
     "output_type": "stream",
     "text": [
      "+-+-------+\n",
      "|0|+-----+|\n",
      "| ||0 0 0||\n",
      "| |+-----+|\n",
      "+-+-------+\n",
      "|1|+-----+|\n",
      "| ||0 0 1||\n",
      "| |+-----+|\n",
      "+-+-------+\n",
      "|2|+-----+|\n",
      "| ||0 1 0||\n",
      "| |+-----+|\n",
      "+-+-------+\n",
      "|3|+-----+|\n",
      "| ||0 1 1||\n",
      "| |+-----+|\n",
      "+-+-------+\n",
      "|4|+-----+|\n",
      "| ||1 0 0||\n",
      "| |+-----+|\n",
      "+-+-------+\n",
      "|5|+-----+|\n",
      "| ||1 0 1||\n",
      "| |+-----+|\n",
      "+-+-------+\n",
      "|6|+-----+|\n",
      "| ||1 1 0||\n",
      "| |+-----+|\n",
      "+-+-------+\n",
      "|7|+-----+|\n",
      "| ||1 1 1||\n",
      "| |+-----+|\n",
      "+-+-------+\n"
     ]
    }
   ],
   "source": [
    "repbox <\"0 i. 2 2 2"
   ]
  },
  {
   "cell_type": "code",
   "execution_count": 49,
   "metadata": {
    "collapsed": false
   },
   "outputs": [
    {
     "name": "stdout",
     "output_type": "stream",
     "text": [
      "+------+-------+-+\n",
      "|a     |+-+    |1|\n",
      "|      ||0|    | |\n",
      "|      |+-+    | |\n",
      "+------+-------+-+\n",
      "|bb    |+-+    |1|\n",
      "|      ||1|    | |\n",
      "|      |+-+    | |\n",
      "+------+-------+-+\n",
      "|ccc   |+-+---+|2|\n",
      "|      ||2|0 0|| |\n",
      "|      |+-+---+| |\n",
      "+------+-------+-+\n",
      "|dddd  |+-+---+|2|\n",
      "|      ||2|0 1|| |\n",
      "|      |+-+---+| |\n",
      "+------+-------+-+\n",
      "|eeeee |+-+---+|2|\n",
      "|      ||2|1 0|| |\n",
      "|      |+-+---+| |\n",
      "+------+-------+-+\n",
      "|ffffff|+-+---+|2|\n",
      "|      ||2|1 1|| |\n",
      "|      |+-+---+| |\n",
      "+------+-------+-+\n"
     ]
    }
   ],
   "source": [
    "(,. [: # each }.\"1) repbox 'a';'bb';<(2 2 $ 'ccc';'dddd';'eeeee';'ffffff')"
   ]
  },
  {
   "cell_type": "markdown",
   "metadata": {},
   "source": [
    "Can I create an inverse to repbox?"
   ]
  },
  {
   "cell_type": "markdown",
   "metadata": {},
   "source": [
    "Other useful verbs:\n",
    "\n",
    "L.\n",
    "\n",
    "L:\n",
    "\n",
    "S:\n",
    "\n",
    "{ (with boxed x can select sub-arrays)\n",
    "\n",
    "} (can use the same addresses as {)\n",
    "\n",
    "applyintree (http://code.jsoftware.com/wiki/Vocabulary/AmendingBoxedStructures)"
   ]
  },
  {
   "cell_type": "code",
   "execution_count": null,
   "metadata": {
    "collapsed": true
   },
   "outputs": [],
   "source": []
  }
 ],
 "metadata": {
  "kernelspec": {
   "display_name": "J",
   "language": "J",
   "name": "jkernel"
  },
  "language_info": {
   "file_extension": "ijs",
   "mimetype": "text/x-J",
   "name": "J"
  }
 },
 "nbformat": 4,
 "nbformat_minor": 0
}
