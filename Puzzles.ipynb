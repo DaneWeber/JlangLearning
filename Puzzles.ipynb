{
 "cells": [
  {
   "cell_type": "markdown",
   "metadata": {
    "deletable": true,
    "editable": true
   },
   "source": [
    "Largest Rectangle in Bar Chart puzzle"
   ]
  },
  {
   "cell_type": "code",
   "execution_count": 1,
   "metadata": {
    "collapsed": false,
    "deletable": true,
    "editable": true
   },
   "outputs": [
    {
     "name": "stdout",
     "output_type": "stream",
     "text": [
      "10\n"
     ]
    }
   ],
   "source": [
    ">./ (* >:@i.@#) >./&> +/;.1 each <\"1 |: 0, (2 3 4 2 5 1) #\"0 (1)"
   ]
  },
  {
   "cell_type": "code",
   "execution_count": 6,
   "metadata": {
    "collapsed": false,
    "deletable": true,
    "editable": true
   },
   "outputs": [
    {
     "name": "stdout",
     "output_type": "stream",
     "text": [
      "[ ([: >./ [: (* >:@i.@#) [: >./&> [: +/;.1&.> [: <\"1 [: |: 0 , 1 #\"0~ ])\n"
     ]
    }
   ],
   "source": [
    "[ largest_rectangle =. 13 : '>./ (* >:@i.@#) >./&> +/;.1 each <\"1 |: 0, y #\"0 (1)'"
   ]
  },
  {
   "cell_type": "code",
   "execution_count": 7,
   "metadata": {
    "collapsed": false,
    "deletable": true,
    "editable": true
   },
   "outputs": [
    {
     "name": "stdout",
     "output_type": "stream",
     "text": [
      "10\n"
     ]
    }
   ],
   "source": [
    "largest_rectangle 2 3 4 2 5 1"
   ]
  },
  {
   "cell_type": "markdown",
   "metadata": {
    "collapsed": true,
    "deletable": true,
    "editable": true
   },
   "source": [
    "String division - https://codegolf.stackexchange.com/questions/129259/divide-a-string\n",
    "Test cases\n",
    "\n",
    "    \"Hello, world!\", 4 -> ([\"Hel\", \"lo,\", \" wo\", \"rld\"], \"!\") (\"!\" is the remainder)\n",
    "    \"Hello, world!\", 5 -> ([\"He\", \"ll\", \"o,\", \" w\", \"or\"], \"ld!\")\n",
    "    \"ABCDEFGH\", 2 -> ([\"ABCD\", \"EFGH\"], \"\") (no remainder; optional \"\")\n",
    "    \"123456789\", 5 -> ([\"1\", \"2\", \"3\", \"4\", \"5\"], \"6789\")\n",
    "    \"ALABAMA\", 3 -> ([\"AL\", \"AB\", \"AM\"], \"A\")\n",
    "    \"1234567\", 4 -> ([\"1\", \"2\", \"3\", \"4\"], \"567\")"
   ]
  },
  {
   "cell_type": "code",
   "execution_count": 2,
   "metadata": {
    "collapsed": true
   },
   "outputs": [],
   "source": [
    "test1 =. test2 =. 'Hello, world!'\n",
    "test3 =. 'ABCDEFGH'\n",
    "test4 =. '123456789'\n",
    "test5 =. 'ALABAMA'\n",
    "test6 =. '1234567'"
   ]
  },
  {
   "cell_type": "code",
   "execution_count": 8,
   "metadata": {
    "collapsed": false
   },
   "outputs": [
    {
     "name": "stdout",
     "output_type": "stream",
     "text": [
      "2 3\n"
     ]
    }
   ],
   "source": [
    "(0 5 #: #) test2"
   ]
  },
  {
   "cell_type": "code",
   "execution_count": 9,
   "metadata": {
    "collapsed": false
   },
   "outputs": [
    {
     "name": "stdout",
     "output_type": "stream",
     "text": [
      "(0 , [) #: [: # ]\n"
     ]
    }
   ],
   "source": [
    "13 : '(0 , x) #: # y'"
   ]
  },
  {
   "cell_type": "code",
   "execution_count": 16,
   "metadata": {
    "collapsed": false
   },
   "outputs": [
    {
     "name": "stdout",
     "output_type": "stream",
     "text": [
      "2 3\n"
     ]
    }
   ],
   "source": [
    "5 ((0,[)#:[:#]) test2"
   ]
  },
  {
   "cell_type": "code",
   "execution_count": 25,
   "metadata": {
    "collapsed": false
   },
   "outputs": [
    {
     "name": "stdout",
     "output_type": "stream",
     "text": [
      "He\n",
      "ll\n",
      "o,\n",
      " w\n",
      "or\n"
     ]
    }
   ],
   "source": [
    "5 (] $~ [ , (<.@%~#)) test2"
   ]
  },
  {
   "cell_type": "code",
   "execution_count": 51,
   "metadata": {
    "collapsed": false
   },
   "outputs": [
    {
     "name": "stdout",
     "output_type": "stream",
     "text": [
      "+---+-+\n",
      "|Hel|!|\n",
      "|lo,| |\n",
      "| wo| |\n",
      "|rld| |\n",
      "+---+-+\n"
     ]
    }
   ],
   "source": [
    "4 ((] $~ [ , (<.@%~#)) ; (] {.~ 0 - (|#) ) ) test1"
   ]
  },
  {
   "cell_type": "code",
   "execution_count": 76,
   "metadata": {
    "collapsed": false
   },
   "outputs": [
    {
     "name": "stdout",
     "output_type": "stream",
     "text": [
      "+--+---+\n",
      "|He|ld!|\n",
      "|ll|   |\n",
      "|o,|   |\n",
      "| w|   |\n",
      "|or|   |\n",
      "+--+---+\n"
     ]
    }
   ],
   "source": [
    "chunk =. (]$~[,(<.@%~#));]{.~0-(|#)\n",
    "5 chunk test2"
   ]
  },
  {
   "cell_type": "code",
   "execution_count": 65,
   "metadata": {
    "collapsed": false
   },
   "outputs": [
    {
     "name": "stdout",
     "output_type": "stream",
     "text": [
      "+---+-+\n",
      "|Hel|!|\n",
      "|lo,| |\n",
      "| wo| |\n",
      "|rld| |\n",
      "+---+-+\n"
     ]
    }
   ],
   "source": [
    "4 chunk test1"
   ]
  },
  {
   "cell_type": "code",
   "execution_count": 66,
   "metadata": {
    "collapsed": false
   },
   "outputs": [
    {
     "name": "stdout",
     "output_type": "stream",
     "text": [
      "+--+---+\n",
      "|He|ld!|\n",
      "|ll|   |\n",
      "|o,|   |\n",
      "| w|   |\n",
      "|or|   |\n",
      "+--+---+\n"
     ]
    }
   ],
   "source": [
    "5 chunk test2"
   ]
  },
  {
   "cell_type": "code",
   "execution_count": 67,
   "metadata": {
    "collapsed": false
   },
   "outputs": [
    {
     "name": "stdout",
     "output_type": "stream",
     "text": [
      "+----++\n",
      "|ABCD||\n",
      "|EFGH||\n",
      "+----++\n"
     ]
    }
   ],
   "source": [
    "2 chunk test3"
   ]
  },
  {
   "cell_type": "code",
   "execution_count": 68,
   "metadata": {
    "collapsed": false
   },
   "outputs": [
    {
     "name": "stdout",
     "output_type": "stream",
     "text": [
      "+-+----+\n",
      "|1|6789|\n",
      "|2|    |\n",
      "|3|    |\n",
      "|4|    |\n",
      "|5|    |\n",
      "+-+----+\n"
     ]
    }
   ],
   "source": [
    "5 chunk test4"
   ]
  },
  {
   "cell_type": "code",
   "execution_count": 69,
   "metadata": {
    "collapsed": false
   },
   "outputs": [
    {
     "name": "stdout",
     "output_type": "stream",
     "text": [
      "+--+-+\n",
      "|AL|A|\n",
      "|AB| |\n",
      "|AM| |\n",
      "+--+-+\n"
     ]
    }
   ],
   "source": [
    "3 chunk test5"
   ]
  },
  {
   "cell_type": "code",
   "execution_count": 70,
   "metadata": {
    "collapsed": false
   },
   "outputs": [
    {
     "name": "stdout",
     "output_type": "stream",
     "text": [
      "+-+---+\n",
      "|1|567|\n",
      "|2|   |\n",
      "|3|   |\n",
      "|4|   |\n",
      "+-+---+\n"
     ]
    }
   ],
   "source": [
    "4 chunk test6"
   ]
  },
  {
   "cell_type": "code",
   "execution_count": 71,
   "metadata": {
    "collapsed": false
   },
   "outputs": [
    {
     "name": "stdout",
     "output_type": "stream",
     "text": [
      "(] $~ [ , (<.@%~ #)) ; ] {.~ 0 - (| #)\n"
     ]
    }
   ],
   "source": [
    "chunk"
   ]
  },
  {
   "cell_type": "code",
   "execution_count": null,
   "metadata": {
    "collapsed": true
   },
   "outputs": [],
   "source": []
  }
 ],
 "metadata": {
  "kernelspec": {
   "display_name": "J",
   "language": "J",
   "name": "jkernel"
  },
  "language_info": {
   "file_extension": "ijs",
   "mimetype": "text/x-J",
   "name": "J"
  }
 },
 "nbformat": 4,
 "nbformat_minor": 2
}
