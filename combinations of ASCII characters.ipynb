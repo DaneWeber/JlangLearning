{
 "cells": [
  {
   "cell_type": "markdown",
   "metadata": {},
   "source": [
    "Combinatorial functions from\n",
    "http://code.jsoftware.com/wiki/Essays/Combination_Index"
   ]
  },
  {
   "cell_type": "code",
   "execution_count": 5,
   "metadata": {
    "collapsed": true
   },
   "outputs": [],
   "source": [
    "iccheck=: 4 : 0 \" 1\n",
    " 'm n'=. x: x\n",
    " assert. (0<:m)*.m<:n\n",
    " assert. m = #y\n",
    " assert. (-: /:~) y\n",
    " assert. (-: ~. ) y\n",
    " assert. y e. i.n\n",
    " z=. -/ +/ ((-i.)m) ! n - (|.!.'' 1+y),.y\n",
    " assert. (0<:z)*.z<m!n\n",
    ")"
   ]
  },
  {
   "cell_type": "code",
   "execution_count": 6,
   "metadata": {
    "collapsed": true
   },
   "outputs": [],
   "source": [
    "lead=: 4 : 0\n",
    " 'm n'=. x: x\n",
    " a=. m!n\n",
    " p=. n-1\n",
    " q=. m-1\n",
    " while. p>:q do.\n",
    "  j=. q+<.-:p-q\n",
    "  s=. (a - m!j) - y\n",
    "  if.     0 > s do. p=. j-1\n",
    "  elseif. 0 < s do. q=. j+1\n",
    "  elseif. 1     do. n-j return. end.\n",
    " end.\n",
    " (n-1)-p\n",
    ")"
   ]
  },
  {
   "cell_type": "code",
   "execution_count": 7,
   "metadata": {
    "collapsed": true
   },
   "outputs": [],
   "source": [
    "cicheck=:  4 : 0 \" 1 0\n",
    " 'm n'=. x: x\n",
    " assert. (0<:m)*.m<:n\n",
    " assert. (0<:y)*.y<m!n\n",
    " z=. 0$q=. n\n",
    " for_p. (-i.)m do.\n",
    "  k=. (p,q) lead y\n",
    "  y=. y-(p!q)-p!q-k\n",
    "  q=. q-1+k\n",
    "  z=. z,k\n",
    " end.\n",
    " z=. z + (i.#z) + |.!.'' +/\\z\n",
    " assert. m = #z\n",
    " assert. (-: /:~) z\n",
    " assert. (-: ~. ) z\n",
    " assert. z e. i.n\n",
    ")"
   ]
  },
  {
   "cell_type": "code",
   "execution_count": 8,
   "metadata": {
    "collapsed": false
   },
   "outputs": [
    {
     "name": "stdout",
     "output_type": "stream",
     "text": [
      "1 2 3 5\n"
     ]
    }
   ],
   "source": [
    "4 6 cicheck 11"
   ]
  },
  {
   "cell_type": "code",
   "execution_count": 10,
   "metadata": {
    "collapsed": false
   },
   "outputs": [
    {
     "name": "stdout",
     "output_type": "stream",
     "text": [
      "11\n"
     ]
    }
   ],
   "source": [
    "4 6 iccheck 1 2 3 5"
   ]
  },
  {
   "cell_type": "code",
   "execution_count": 11,
   "metadata": {
    "collapsed": false
   },
   "outputs": [
    {
     "name": "stdout",
     "output_type": "stream",
     "text": [
      "15\n"
     ]
    }
   ],
   "source": [
    "4 ! 6"
   ]
  },
  {
   "cell_type": "code",
   "execution_count": 14,
   "metadata": {
    "collapsed": false
   },
   "outputs": [
    {
     "name": "stdout",
     "output_type": "stream",
     "text": [
      "0 1 2 3\n",
      "0 1 2 4\n",
      "0 1 2 5\n",
      "0 1 3 4\n",
      "0 1 3 5\n",
      "0 1 4 5\n",
      "0 2 3 4\n",
      "0 2 3 5\n",
      "0 2 4 5\n",
      "0 3 4 5\n",
      "1 2 3 4\n",
      "1 2 3 5\n",
      "1 2 4 5\n",
      "1 3 4 5\n",
      "2 3 4 5\n"
     ]
    }
   ],
   "source": [
    "4 6 cicheck i. 15"
   ]
  },
  {
   "cell_type": "code",
   "execution_count": 41,
   "metadata": {
    "collapsed": false
   },
   "outputs": [
    {
     "name": "stdout",
     "output_type": "stream",
     "text": [
      " !\"#$%&'()*+,-./0123456789:;<=>?@ABCDEFGHIJKLMNOPQRSTUVWXYZ[\\]^_`abcdefghijklmnopqrstuvwxyz{|}~\n"
     ]
    }
   ],
   "source": [
    "[ ascii =: _129 }. 32 }. a."
   ]
  },
  {
   "cell_type": "code",
   "execution_count": 42,
   "metadata": {
    "collapsed": false
   },
   "outputs": [
    {
     "name": "stdout",
     "output_type": "stream",
     "text": [
      "95\n"
     ]
    }
   ],
   "source": [
    "# ascii"
   ]
  },
  {
   "cell_type": "code",
   "execution_count": 58,
   "metadata": {
    "collapsed": false
   },
   "outputs": [
    {
     "name": "stdout",
     "output_type": "stream",
     "text": [
      "#0W_s\n",
      "#0W_t\n",
      "#0W_u\n",
      "#0W_v\n",
      "#0W_w\n",
      "#0W_x\n",
      "#0W_y\n",
      "#0W_z\n",
      "#0W_{\n",
      "#0W_|\n",
      "#0W_}\n",
      "#0W_~\n",
      "#0W`a\n",
      "#0W`b\n",
      "#0W`c\n",
      "#0W`d\n",
      "#0W`e\n",
      "#0W`f\n",
      "#0W`g\n",
      "#0W`h\n"
     ]
    }
   ],
   "source": [
    "ascii {~ 5 95 cicheck 10000020 + i. 20"
   ]
  },
  {
   "cell_type": "code",
   "execution_count": 44,
   "metadata": {
    "collapsed": false
   },
   "outputs": [
    {
     "name": "stdout",
     "output_type": "stream",
     "text": [
      "\"\n"
     ]
    }
   ],
   "source": [
    "2 { ascii"
   ]
  },
  {
   "cell_type": "code",
   "execution_count": null,
   "metadata": {
    "collapsed": true
   },
   "outputs": [],
   "source": []
  }
 ],
 "metadata": {
  "kernelspec": {
   "display_name": "J",
   "language": "J",
   "name": "jkernel"
  },
  "language_info": {
   "file_extension": "ijs",
   "mimetype": "text/x-J",
   "name": "J"
  }
 },
 "nbformat": 4,
 "nbformat_minor": 0
}
